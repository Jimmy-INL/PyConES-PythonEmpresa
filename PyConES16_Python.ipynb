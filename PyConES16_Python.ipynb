{
 "cells": [
  {
   "cell_type": "markdown",
   "metadata": {},
   "source": [
    "# Python y empresa: Introducción a los problemas básicos de optimización "
   ]
  },
  {
   "cell_type": "markdown",
   "metadata": {},
   "source": [
    "** Daniel Domene-López ** y ** Carlos Planelles-Alemany ** para [PyConES16](http://2016.es.pycon.org/) - Almería "
   ]
  },
  {
   "cell_type": "markdown",
   "metadata": {},
   "source": [
    "## 0. Indice \n",
    "> 1. Introducción.\n",
    "> 2. Instalación Pyomo.\n",
    "> 3. El problema de la mochila (Knapsack Problem). \n",
    "> 4. El problema del viajante de comercio. "
   ]
  },
  {
   "cell_type": "markdown",
   "metadata": {},
   "source": [
    "## 1. Introducción."
   ]
  },
  {
   "cell_type": "markdown",
   "metadata": {},
   "source": [
    "La optimización de procesos industriales ha experimentado un crecimiento considerable durante los últimos años. las industrias modernas apuestan por ella para mejorar la producción, reducir los costes, disminuir el impacto ambiental e incrementar la seguridad de los procesos. en este sentido, es sensata la introducción y formación de los nuevos ingenieros en esta rama de la ciencia."
   ]
  },
  {
   "cell_type": "markdown",
   "metadata": {},
   "source": [
    "Resulta curioso pensar que en ámbito de las ciencias de la computación, la optimización suela hacer referencia a la reducción en el tiempo de ejecución del programa. Pero la optimización matemática (también conocida como investigación de operaciones o programación matemática) no tiene nada que ver con este problema y, en muchos casos, la formación se recibe en las universidades no pasa de enunciar y explicar el algoritmo SIMPLEX para la resolución de problemas lineales con variables continuas. "
   ]
  },
  {
   "cell_type": "markdown",
   "metadata": {},
   "source": [
    "A grandes rasgos, la optimización consite en maximizr o minimiza una función real, eligiendo sistemáticamente valores de entrada, siempre tomados de un conjunto permitido, y calculando el valor de la función. Este problema se torna interesante y complejo cuando aparecen restricciones, que pueden ser lineales o no lineales, además de variables enteras, empleadas para modelar la toma de decisiones discretas. "
   ]
  },
  {
   "cell_type": "markdown",
   "metadata": {},
   "source": [
    "Multitud de problemas de optimización en las empresas pueden llegar a expresarse a partir de un pequeño conjunto de problemas de optimización sencillos, como lo es el ** problema de la mochila (Knapsack Problem)** o el ** problema del viajante **.\n",
    "Estos problemas aparecen, en muchas ocasiones de manera indirecta, en problemas relacionados con la organización de la logística de la empresa o en la toma de decisiones sobre mercaderías e incluso en la elección de proyectos de I+D+i. \n",
    "El estudio y buen concoimiento de los problemas básicos de optimización es básico para comprender y abordar problemas de una magnitud superior, además de ser un magnífico punto de partida para introducirse en la sintaxis del modelado algebraico. "
   ]
  },
  {
   "cell_type": "markdown",
   "metadata": {},
   "source": [
    "Existen varios lenguajes de modelado algebráico comerciales. Dos de los más utilizados para resolver este tipo de problemas son GAMS y AMPL. En Python existen varias bibliotecas que permiten resolver el mismo tipo de probleams (CVXOpt, CVXPy, PulP, OpenOpt o Pyomo). "
   ]
  },
  {
   "cell_type": "markdown",
   "metadata": {},
   "source": [
    "De todos ellos, Pyomo resulta interesante porque:\n",
    "* Es **Open Source**, desarrollado por Sania Lab. \n",
    "* Integración de **Solvers**.\n",
    "* Es un **lenguaje de programación** en si mismo, lo que lo hace un lenguaje robusto, con una extensa documentación...además de soportar características de programación moderna, como las clases y las funciones. "
   ]
  },
  {
   "cell_type": "markdown",
   "metadata": {},
   "source": [
    "En los siguientes puntos mostramos como realizar la instalación de Pyomo y cómo resolver el ** Problema de la Mochila ** y el ** Problema del viajante de comercio **. "
   ]
  },
  {
   "cell_type": "markdown",
   "metadata": {},
   "source": [
    "## 2. Instalación Pyomo."
   ]
  },
  {
   "cell_type": "markdown",
   "metadata": {},
   "source": [
    "Para la instalación de Pyomo recomendamos seguir las guías que aparecen en el Notebook ** [Guía de instalación de Pyomo](https://github.com/CAChemE/pyomo-instalacion) ** en el GitHub de ** [CAChemE](http://cacheme.org/)**. En este Notebook se encuentra toda la información necesaria para instalar Pyomo y los solvers necesarios para resolver los problemas de una manera muy sencilla gracias al trabajo de \n",
    "**[ Juan Luis Cano](https://www.linkedin.com/in/juanluiscanor) **. "
   ]
  },
  {
   "cell_type": "markdown",
   "metadata": {},
   "source": [
    "Aquí un pequeño resumen. En Python 3.5 teclear en la terminal:"
   ]
  },
  {
   "cell_type": "markdown",
   "metadata": {},
   "source": [
    "*conda install pyomo -c conda-forge *"
   ]
  },
  {
   "cell_type": "markdown",
   "metadata": {},
   "source": [
    "Para instalar el solver glpk:"
   ]
  },
  {
   "cell_type": "markdown",
   "metadata": {},
   "source": [
    "*conda install glpk -c conda-forge*"
   ]
  },
  {
   "cell_type": "markdown",
   "metadata": {},
   "source": [
    "## 3. El problema de la Mochila (Knapsack Problem). "
   ]
  },
  {
   "cell_type": "markdown",
   "metadata": {},
   "source": [
    "El problema de la mochila es un problema de optimización combinatoria, busca la mejor solución entre un conjunto finito de posibles soluciones a un problema. \n",
    "Cuando se proporciona un volumen fijo, el cual debe ser llenado con objetos valiosos de volumen específico se trata de encontrar un programa que permita la selección de los objetos que hagan máximo el valor de la mochila.  "
   ]
  },
  {
   "cell_type": "markdown",
   "metadata": {},
   "source": [
    "$$\n",
    "\\begin{array}{lll}\n",
    "\\max & f(x) = \\sum_{i=1}^F c_i x_i & \\\\\n",
    "& \\\\\\\n",
    "s.t. & \\sum_{i=1}^F  V_{ij} x_i \\leq V_{max} & \\forall i = 1 \\ldots F\\ & \\\\\\\n",
    "& \\\\\\\n",
    "     & \\sum_{i=1}^F  M_{ij} x_i \\leq M_{max} & \\forall i = 1 \\ldots F\\ & \\\\\\\n",
    "     & \\\\\\\n",
    "     & x_i \\geq 0 & \\forall i = 1 \\ldots F\n",
    "\\end{array}\n",
    "$$"
   ]
  },
  {
   "cell_type": "markdown",
   "metadata": {},
   "source": [
    "*** Ejemplo *** : De entre los siguients objetos, escoge los que puedes introducir en la tu mochila, teniendo en cuenta que han de cumplirse las restricciones de capacidad y peso máximos, amén de que la suma del valor de los objetos introducidos en lam ochila ha de ser máxima. "
   ]
  },
  {
   "cell_type": "markdown",
   "metadata": {},
   "source": [
    "*** Datos ***: A continuación el archivo con los datos del problema. "
   ]
  },
  {
   "cell_type": "code",
   "execution_count": 1,
   "metadata": {
    "collapsed": false
   },
   "outputs": [
    {
     "name": "stdout",
     "output_type": "stream",
     "text": [
      "#SETS\r",
      "\r\n",
      "\r",
      "\r\n",
      "set ITEMS := Chest Ring Necklase Mirror Bracelet Ruby Perfume Diamond Cup Saffron ;\r",
      "\r\n",
      "\r",
      "\r\n",
      "#v = Volume\r",
      "\r\n",
      "#w = Weight\r",
      "\r\n",
      "#c = Cost\r",
      "\r\n",
      "#u = Quantity of each fo them\r",
      "\r\n",
      "\r",
      "\r\n",
      "#PARAMETERS\r",
      "\r\n",
      "param :\t\t    \tv     w     c   u   :=\r",
      "\r\n",
      "    Chest       1000  2000  50  1\r",
      "\r\n",
      "    Ring        2     20    5   10\r",
      "\r\n",
      "    Necklase    10    300   3   1\r",
      "\r\n",
      "    Mirror      500   1000  20  1\r",
      "\r\n",
      "    Bracelet    15    300   16  15\r",
      "\r\n",
      "    Ruby        3     75    5   1\r",
      "\r\n",
      "    Perfume     100   100   1   1\r",
      "\r\n",
      "    Diamond     5     50    30  1\r",
      "\r\n",
      "    Cup         250   500   12  1\r",
      "\r\n",
      "    Saffron     100   100   40  1    ;\r",
      "\r\n",
      "\r",
      "\r\n",
      "# Limit Value for the Volume in cm3\r",
      "\r\n",
      "param limitV := 2000;\r",
      "\r\n",
      "\r",
      "\r\n",
      "# Limit Value for the Weight in g\r",
      "\r\n",
      "param limitW := 2500;\r",
      "\r\n"
     ]
    }
   ],
   "source": [
    "! cat Knapsack.dat "
   ]
  },
  {
   "cell_type": "markdown",
   "metadata": {},
   "source": [
    "*** Resolución ***: En un archivo que llamaremos Knapsack.py introduciremos el siguiente código para resolver el problema. A continuación se muestra el contenido del archivo. "
   ]
  },
  {
   "cell_type": "code",
   "execution_count": 2,
   "metadata": {
    "collapsed": true
   },
   "outputs": [],
   "source": [
    "from pyomo.environ import *\n",
    "\n",
    "# 1. Generamos el modelo Abstracto, pues le introduciremos los datos de manera externa con un archivo de datos.\n",
    "model = AbstractModel() \n",
    "\n",
    "# 2. Generamos el Set de los objetos del problema. \n",
    "model.ITEMS = Set() \n",
    "\n",
    "# 3. Asignamos los valores del archivo de datos a los coeficientes del modelo. \n",
    "# VOLUMENES\n",
    "model.v = Param(model.ITEMS, within = PositiveReals)\n",
    "# MASAS\n",
    "model.w = Param(model.ITEMS, within = PositiveReals)\n",
    "# VALOR DE LOS OBJETOS\n",
    "model.c = Param(model.ITEMS, within = PositiveReals)\n",
    "# UNIDADES DE CADA OBJETO DISPONIBLES\n",
    "model.u = Param(model.ITEMS, within = PositiveReals) \n",
    "# LIMITE DE VOLUMEN\n",
    "model.limitV = Param(within = PositiveReals)\n",
    "# LIMITE DE MASA\n",
    "model.limitW = Param(within = PositiveReals) \n",
    "\n",
    "# 4. Generamos la variable del problema x (unidades de objetos que introducimos a la mocila)\n",
    "model.x = Var(model.ITEMS, within = NonNegativeIntegers) "
   ]
  },
  {
   "cell_type": "markdown",
   "metadata": {},
   "source": [
    "Luego de introducir los valores de los coeficientes y declarar las variables ha de establecerse las ecuaciones del modelo. "
   ]
  },
  {
   "cell_type": "markdown",
   "metadata": {},
   "source": [
    "** Función Objetivo ** "
   ]
  },
  {
   "cell_type": "markdown",
   "metadata": {},
   "source": [
    "$$\n",
    "\\begin{array}{111}\n",
    "\\max & f(x) = \\sum_{i=1}^F c_i x_i & \\\\\n",
    " & \\\n",
    "     & \\\n",
    "     & \n",
    "\\end{array}\n",
    "$$"
   ]
  },
  {
   "cell_type": "code",
   "execution_count": 4,
   "metadata": {
    "collapsed": false
   },
   "outputs": [],
   "source": [
    "def value_rule(model):\n",
    "    \n",
    "    return sum(model.c[i] * model.x[i]  for i in model.ITEMS)\n",
    "\n",
    "model.value = Objective(sense = maximize, rule=value_rule)"
   ]
  },
  {
   "cell_type": "markdown",
   "metadata": {},
   "source": [
    "** Restricción de Volumen ** "
   ]
  },
  {
   "cell_type": "markdown",
   "metadata": {},
   "source": [
    "$$\n",
    "\\begin{array}{lll}\n",
    "\\\\\\\n",
    "s.t. & \\sum_{i=1}^F  V_{ij} x_i \\leq V_{max} & \\forall i = 1 \\ldots F\\ & \\\\\\\n",
    "     & \\\\\n",
    "     & \n",
    "\\end{array}\n",
    "$$"
   ]
  },
  {
   "cell_type": "code",
   "execution_count": 5,
   "metadata": {
    "collapsed": true
   },
   "outputs": [],
   "source": [
    "def volum_rule(model):\n",
    "    \n",
    "    return sum(model.v[i] * model.x[i] for i in model.ITEMS) <= model.limitV\n",
    "\n",
    "model.volum = Constraint( rule = volum_rule )"
   ]
  },
  {
   "cell_type": "markdown",
   "metadata": {},
   "source": [
    "** Restricción de Masa **"
   ]
  },
  {
   "cell_type": "markdown",
   "metadata": {},
   "source": [
    "$$\n",
    "\\begin{array}{lll}\n",
    "\\\n",
    "s.t. & \n",
    "     & \\sum_{i=1}^F  M_{ij} x_i \\leq M_{max} & \\forall i = 1 \\ldots F\\ & \\\\\\\n",
    "     & \n",
    "\\end{array}\n",
    "$$"
   ]
  },
  {
   "cell_type": "code",
   "execution_count": 6,
   "metadata": {
    "collapsed": true
   },
   "outputs": [],
   "source": [
    "def weight_rule(model): \n",
    "    \n",
    "    return sum(model.w[i] * model.x[i] for i in model.ITEMS) <= model.limitW \n",
    "\n",
    "model.weight = Constraint( rule = weight_rule )"
   ]
  },
  {
   "cell_type": "markdown",
   "metadata": {},
   "source": [
    "En el enunciado del modelo no se ha hecho referencia a la cantidad de objetos que se pueden escoger. Es decir, se puede escoger más de un anillo, por lo que el valor de su variable podrá ser 0, 1, 2... hasta 10. Esto también es una restricción, por lo que ha de introducirse explícitamente. "
   ]
  },
  {
   "cell_type": "markdown",
   "metadata": {},
   "source": [
    "** Restricción de cantidad de objeto ** "
   ]
  },
  {
   "cell_type": "markdown",
   "metadata": {},
   "source": [
    "$$\n",
    "\\begin{array}{lll}\n",
    "\\\n",
    "s.t. & \n",
    "     & \\ x_i \\leq U_{i} & \\forall i = 1 \\ldots F\\ & \\\\\\\n",
    "     & \n",
    "\\end{array}\n",
    "$$"
   ]
  },
  {
   "cell_type": "markdown",
   "metadata": {},
   "source": [
    "Como puedes observa, la siguiente condición implica un número de ecuaciones igual al número de objetos entre los que se selecciona. Para una pequeña cantidad de los mismos podría ser una opción introducirlas de una en una, pero existe la posibilidad de escribirlas todas a la vez, aprovechando el set que hemos generado."
   ]
  },
  {
   "cell_type": "code",
   "execution_count": 7,
   "metadata": {
    "collapsed": true
   },
   "outputs": [],
   "source": [
    "def amount_rule(model, i):\n",
    "    \n",
    "    return model.x[i] <= model.u[i]\n",
    "\n",
    "model.amount = Constraint( model.ITEMS, rule = amount_rule)"
   ]
  },
  {
   "cell_type": "markdown",
   "metadata": {},
   "source": [
    "El archivo Knapsack.py quedaría por tanto:"
   ]
  },
  {
   "cell_type": "code",
   "execution_count": 8,
   "metadata": {
    "collapsed": false
   },
   "outputs": [
    {
     "name": "stdout",
     "output_type": "stream",
     "text": [
      "# Problema de la Mochila\r",
      "\r\n",
      "# Daniel Domene-López y Zuria Bauer\r",
      "\r\n",
      "\r",
      "\r\n",
      "from pyomo.environ import *\r",
      "\r\n",
      "\r",
      "\r\n",
      "model = AbstractModel()\r",
      "\r\n",
      "\r",
      "\r\n",
      "model.ITEMS = Set()\r",
      "\r\n",
      "\r",
      "\r\n",
      "model.v = Param(model.ITEMS, within=PositiveReals)\r",
      "\r\n",
      "\r",
      "\r\n",
      "model.w = Param(model.ITEMS, within=PositiveReals)\r",
      "\r\n",
      "\r",
      "\r\n",
      "model.c = Param(model.ITEMS, within=PositiveReals)\r",
      "\r\n",
      "\r",
      "\r\n",
      "model.u = Param(model.ITEMS, within=PositiveReals)\r",
      "\r\n",
      "\r",
      "\r\n",
      "\r",
      "\r\n",
      "model.limitW = Param(within=PositiveReals)\r",
      "\r\n",
      "model.limitV = Param(within=PositiveReals)\r",
      "\r\n",
      "\r",
      "\r\n",
      "model.x = Var(model.ITEMS, within=NonNegativeIntegers)\r",
      "\r\n",
      "\r",
      "\r\n",
      "#FO\r",
      "\r\n",
      "def value_rule(model):\r",
      "\r\n",
      "    return sum(model.c[i]*model.x[i] for i in model.ITEMS)\r",
      "\r\n",
      "model.value = Objective(sense=maximize, rule=value_rule)\r",
      "\r\n",
      "\r",
      "\r\n",
      "#CONSTR\r",
      "\r\n",
      "def weight_rule(model):\r",
      "\r\n",
      "    return sum(model.w[i]*model.x[i] for i in model.ITEMS) <= model.limitW\r",
      "\r\n",
      "model.weight = Constraint(rule=weight_rule)\r",
      "\r\n",
      "\r",
      "\r\n",
      "def volum_rule(model):\r",
      "\r\n",
      "    return sum(model.v[i]*model.x[i] for i in model.ITEMS) <= model.limitV\r",
      "\r\n",
      "model.volum = Constraint(rule=volum_rule)\r",
      "\r\n",
      "\r",
      "\r\n",
      "def amount_rule(model,i):\r",
      "\r\n",
      "    return model.x[i]  <= model.u[i]\r",
      "\r\n",
      "model.amount = Constraint(model.ITEMS, rule=amount_rule)\r",
      "\r\n"
     ]
    }
   ],
   "source": [
    "! cat Knapsack.py "
   ]
  },
  {
   "cell_type": "markdown",
   "metadata": {},
   "source": [
    "Para resolver basta con teclear el siguiente comando, en el que indicamos a pyomo que ha de resolver el modelo en el arvhivo .py con los datos del archivo .dat y utilizando el solver glpk. "
   ]
  },
  {
   "cell_type": "code",
   "execution_count": 10,
   "metadata": {
    "collapsed": false
   },
   "outputs": [
    {
     "name": "stdout",
     "output_type": "stream",
     "text": [
      "[    0.00] Setting up Pyomo environment\n",
      "[    0.00] Applying Pyomo preprocessing actions\n",
      "[    0.00] Creating model\n",
      "[    0.11] Applying solver\n",
      "[    0.15] Processing results\n",
      "    Number of solutions: 1\n",
      "    Solution Information\n",
      "      Gap: 0.0\n",
      "      Status: optimal\n",
      "      Function Value: 232.0\n",
      "    Solver results file: results.yml\n",
      "[    0.16] Applying Pyomo postprocessing actions\n",
      "[    0.16] Pyomo Finished\n"
     ]
    }
   ],
   "source": [
    "!pyomo solve --solver=glpk Knapsack.py Knapsack.dat "
   ]
  },
  {
   "cell_type": "markdown",
   "metadata": {},
   "source": [
    "Se genera entonces un archivo .json con los resultados de la optimización. "
   ]
  },
  {
   "cell_type": "code",
   "execution_count": 11,
   "metadata": {
    "collapsed": false
   },
   "outputs": [
    {
     "name": "stdout",
     "output_type": "stream",
     "text": [
      "# ==========================================================\r\n",
      "# = Solver Results                                         =\r\n",
      "# ==========================================================\r\n",
      "# ----------------------------------------------------------\r\n",
      "#   Problem Information\r\n",
      "# ----------------------------------------------------------\r\n",
      "Problem: \r\n",
      "- Name: unknown\r\n",
      "  Lower bound: 232.0\r\n",
      "  Upper bound: 232.0\r\n",
      "  Number of objectives: 1\r\n",
      "  Number of constraints: 13\r\n",
      "  Number of variables: 11\r\n",
      "  Number of nonzeros: 31\r\n",
      "  Sense: maximize\r\n",
      "# ----------------------------------------------------------\r\n",
      "#   Solver Information\r\n",
      "# ----------------------------------------------------------\r\n",
      "Solver: \r\n",
      "- Status: ok\r\n",
      "  Termination condition: optimal\r\n",
      "  Statistics: \r\n",
      "    Branch and bound: \r\n",
      "      Number of bounded subproblems: 5\r\n",
      "      Number of created subproblems: 5\r\n",
      "  Error rc: 0\r\n",
      "  Time: 0.033164024353\r\n",
      "# ----------------------------------------------------------\r\n",
      "#   Solution Information\r\n",
      "# ----------------------------------------------------------\r\n",
      "Solution: \r\n",
      "- number of solutions: 1\r\n",
      "  number of solutions displayed: 1\r\n",
      "- Gap: 0.0\r\n",
      "  Status: optimal\r\n",
      "  Message: None\r\n",
      "  Objective:\r\n",
      "    value:\r\n",
      "      Value: 232\r\n",
      "  Variable:\r\n",
      "    x[Saffron]:\r\n",
      "      Value: 1\r\n",
      "    x[Ring]:\r\n",
      "      Value: 10\r\n",
      "    x[Bracelet]:\r\n",
      "      Value: 7\r\n",
      "    x[Diamond]:\r\n",
      "      Value: 1\r\n",
      "  Constraint: No values\r\n"
     ]
    }
   ],
   "source": [
    "! cat results.yml"
   ]
  },
  {
   "cell_type": "markdown",
   "metadata": {},
   "source": [
    "De esta manera, en la mochila se deberan introducir:\n",
    "* 7 Brazaletes.\n",
    "* 1 Diamante.\n",
    "* 10 Anillos.\n",
    "* 1 Azafrán. \n",
    "\n",
    "para obtener un valor máximo de 232 Dinares. "
   ]
  },
  {
   "cell_type": "markdown",
   "metadata": {},
   "source": [
    "## 4. El Problema del Viajante de Comercio. "
   ]
  },
  {
   "cell_type": "markdown",
   "metadata": {
    "collapsed": true
   },
   "source": [
    "El problema del viajante de comercio tiene como objetivo unir un conjunto de puntos recorriendo para ello el menor espacio posible. Es un problema típico en organización comercial, pues se utilizada para optimizar rutas de viaje. El modelo matemático del problema se expone a continuación:"
   ]
  },
  {
   "cell_type": "markdown",
   "metadata": {},
   "source": [
    "$$\n",
    "\\begin{array}{lll}\n",
    "\\min & f(x) = \\sum_{i=1}^{n} \\sum_{j=1}^{n} c_{ij} y_{ij} \\:\\:\\:\\: i,j = 1,\\cdots, n \\ i=j & \\\\\\\n",
    "& \\\\\\\n",
    "s.t. & \\sum_{i=1, i \\neq j}^{n} y_ {ij} = 1 \\:\\:\\:\\: i,j = 1,\\cdots, n \\ i=j & \\\\\\\n",
    "     & \\\\\\\n",
    "     & \\sum_{j=0, i \\neq j}^{n} y_ {ij} = 1 \\:\\:\\:\\: i,j = 1,\\cdots, n \\ i=j && \\\\\\\n",
    "     & \\\\\\\n",
    "     & u_i-u_j+n y_{ij} \\leq n-1 \\:\\:\\:\\: 1 \\leq i \\neq j \\leq n & \\\\\\\n",
    "     & \\\\\\\n",
    "     & y_{ij} = [0 , 1]\n",
    "\\end{array}\n",
    "$$"
   ]
  },
  {
   "cell_type": "markdown",
   "metadata": {},
   "source": [
    "**Ejemplo**: Una empresa tiene clientes repartidos por toda España y quiere que uno de sus comerciantes visite a cada uno de ellos. Por supuesto la empresa quiere que el gasto de combustible sea el menor posible, por lo que considera la determinación de una ruta óptimza que asegure que el comerciante realizará el número mínimo de kilómetros. Determinar la ruta. "
   ]
  },
  {
   "cell_type": "code",
   "execution_count": 13,
   "metadata": {
    "collapsed": false
   },
   "outputs": [
    {
     "name": "stdout",
     "output_type": "stream",
     "text": [
      "\r\n",
      "\r\n",
      "set I := Madrid Barcelona Almeria Valencia Vigo Murcia Salamanca Zaragoza Toledo Sebastian Santander Valladolid Granada Sevilla Badajoz Castellon Cuenca Tarragona Lerida Huelva Soria;\r\n",
      "\r\n",
      "param n := 21;\r\n",
      "\r\n",
      "param A :\r\n",
      "             Madrid Barcelona Almeria Valencia Vigo Murcia Salamanca Zaragoza Toledo Sebastian Santander Valladolid Granada Sevilla Badajoz Castellon Cuenca Tarragona Lerida Huelva Soria   :=\r\n",
      "  Madrid     0      621       535     355      602  397    220       314      72     453       425       196        420     534     404     420       166    545       461    616    228\r\n",
      "  Barcelona  621    0         790     351      1153 594    845       313      692    571       708       727        888     996     1022    280       541    100       163    1090   467\r\n",
      "  Almeria    535    790       0       424      1140 204    758       752      493    991       978       733        162     407     616     507       483    691       745    503    763\r\n",
      "  Valencia   355    351       424     0        954  235    573       318      369    547       684       548        451     654     656     74        199    258       312    748    379\r\n",
      "  Vigo       602    1153      1140    954      0    994    414       842      657    756       576       437        1009    727     507     1013      759    1072      989    796    641\r\n",
      "  Murcia     397    594       204     235      994  0      619       556      391    838       807       594        278     523     666     311       306    495       549    619    593\r\n",
      "  Salamanca  220    845       758     573      414  619    0         538      236    452       360       119        632     462     291     636       382    768       685    544    323\r\n",
      "  Zaragoza   314    313       752     318      842  556    538       0        385    263       400       420        726     846     715     309       290    236       152    928    159\r\n",
      "  Toledo     72     692       493     369      657  391    236       385      0      524       503       257        368     476     363     436       182    620       531    576    297\r\n",
      "  Sebastian  453    571       991     547      756  838    452       263      524    0         196       335        867     916     746     571       519    493       410    998    263\r\n",
      "  Santander  425    708       978     684      576  807    360       400      503    196       0         188        420     528     398     425       171    551       468    610    234\r\n",
      "  Valladolid 196    727       733     548      437  594    119       420      257    335       188       0          608     584     414     559       358    652       568    666    207\r\n",
      "  Granada    420    888       162     451      1009 278    632       726      368    867       420       608        0       248     457     611       456    795       872    344    638\r\n",
      "  Sevilla    534    996       407     654      727  523    462       846      476    916       528       584        248     0       210     719       564    903       991    94     757\r\n",
      "  Badajoz    404    1022      616     656      507  666    291       715      363    746       398       414        457     210     0       722       543    945       862    292    628\r\n",
      "  Castellon  420    280       507     74       1013 311    636       309      436    571       425       559        611     719     722     0         263    187       241    812    379\r\n",
      "  Cuenca     166    541       483     199      759  306    382       290      182    519       171       358        456     564     543     263       0      448       441    657    270\r\n",
      "  Tarragona  545    100       691     258      1072 495    768       236      620    493       551       652        795     903     945     187       448    0         100    997    390\r\n",
      "  Lerida     461    163       745     312      989  549    685       152      531    410       468       568        872     991     862     241       441    100       0      1074   306\r\n",
      "  Huelva     616    1090      503     748      796  619    544       928      576    998       610       666        344     94      292     812       657    997       1074   0      841\r\n",
      "  Soria      228    467       763     379      641  593    323       159      297    263       234       207        638     757     628     379       270    390       306    841    0    ;\r\n"
     ]
    }
   ],
   "source": [
    "! cat tpsData.dat"
   ]
  },
  {
   "cell_type": "markdown",
   "metadata": {},
   "source": [
    "<img src=\"viajante_planteamiento.jpg\" alt=\"ejemplo\" style=\"width: 750px;\"/>"
   ]
  },
  {
   "cell_type": "markdown",
   "metadata": {},
   "source": [
    "**Resolución:** en un archivo tps.py introduciremos el siguiente código."
   ]
  },
  {
   "cell_type": "code",
   "execution_count": 14,
   "metadata": {
    "collapsed": true
   },
   "outputs": [],
   "source": [
    "from pyomo.environ import *\n",
    "\n",
    "# 1. Generamos el modelo Abstracto, pues le introduciremos los datos demanera externa con un archivo de datos. \n",
    "model = AbstractModel()\n",
    "\n",
    "# 2. Generamos el Set que contiene las ciudades que visitará el comerciante\n",
    "model.I = Set(ordered=True) #ciudades\n",
    "\n",
    "# 3. Asignamos los valores del archivo de datos a los coeficientes del modelo. \n",
    "# Distancia entre las ciudades\n",
    "model.A = Param(model.I, model.I)\n",
    "# Número de ciudades\n",
    "model.n = Param()\n",
    "\n",
    "# 4. Generamos las variables del problema y ( si y = 1 -> existe la ruta entre las ciudades)\n",
    "model.y = Var(model.I, model.I, within=Binary)\n",
    "# Variable auxiliar para romper ciclos. \n",
    "model.u = Var(model.I) "
   ]
  },
  {
   "cell_type": "markdown",
   "metadata": {},
   "source": [
    "** Función Objetivo **"
   ]
  },
  {
   "cell_type": "markdown",
   "metadata": {},
   "source": [
    "$$ min \\sum_{i=0}^{n} \\sum_{j=0}^{n} c_{ij} y_{ij} \\:\\:\\:\\: i,j = 0,\\cdots, n \\ i=j $$"
   ]
  },
  {
   "cell_type": "code",
   "execution_count": 15,
   "metadata": {
    "collapsed": true
   },
   "outputs": [],
   "source": [
    "def _objfunc(model):\n",
    "    \n",
    "    return summation(model.A, model.y)\n",
    "\n",
    "model.OBJ = Objective(rule=_objfunc, sense=minimize)"
   ]
  },
  {
   "cell_type": "markdown",
   "metadata": {},
   "source": [
    "$$\\sum_{i=0, i \\neq j}^{n} y_ {ij} = 1$$"
   ]
  },
  {
   "cell_type": "code",
   "execution_count": 16,
   "metadata": {
    "collapsed": true
   },
   "outputs": [],
   "source": [
    "def const1(model, i):\n",
    "    \n",
    "    return sum(model.y[i,j] for j in model.I if (i != j)) == 1\n",
    "\n",
    "model.CONST1 = Constraint(model.I, rule=const1)"
   ]
  },
  {
   "cell_type": "markdown",
   "metadata": {},
   "source": [
    "$$ \\sum_{j=0, i \\neq j}^{n} y_ {ij} = 1 $$"
   ]
  },
  {
   "cell_type": "code",
   "execution_count": 17,
   "metadata": {
    "collapsed": true
   },
   "outputs": [],
   "source": [
    "def const2(model, j):\n",
    "    \n",
    "    return sum(model.y[i,j] for i in model.I if (i != j)) == 1\n",
    "\n",
    "model.CONST2 = Constraint(model.I, rule=const2)"
   ]
  },
  {
   "cell_type": "markdown",
   "metadata": {},
   "source": [
    "$$ u_i-u_j+n y_{ij} \\leq n-1 \\:\\:\\:\\: 1 \\leq i \\neq j \\leq n $$"
   ]
  },
  {
   "cell_type": "code",
   "execution_count": 18,
   "metadata": {
    "collapsed": false
   },
   "outputs": [],
   "source": [
    "def const3(model, i, j):\n",
    "    \n",
    "    if (i == model.I[1] or j == model.I[1] or j == i):\n",
    "        \n",
    "        return Constraint.Skip\n",
    "    \n",
    "    else:\n",
    "        \n",
    "        return model.u[i] - model.u[j] + model.n*model.y[i,j] <= model.n-1\n",
    "    \n",
    "model.CONST3 = Constraint(model.I, model.I, rule=const3)"
   ]
  },
  {
   "cell_type": "markdown",
   "metadata": {},
   "source": [
    "**Resolver**"
   ]
  },
  {
   "cell_type": "code",
   "execution_count": 19,
   "metadata": {
    "collapsed": false
   },
   "outputs": [
    {
     "name": "stdout",
     "output_type": "stream",
     "text": [
      "[    0.00] Setting up Pyomo environment\n",
      "[    0.00] Applying Pyomo preprocessing actions\n",
      "A\n",
      "[    0.00] Creating model\n",
      "[    0.10] Applying solver\n",
      "[    0.63] Processing results\n",
      "    Number of solutions: 1\n",
      "    Solution Information\n",
      "      Gap: 0.0\n",
      "      Status: optimal\n",
      "      Function Value: 4190.0\n",
      "    Solver results file: results.yml\n",
      "[    0.65] Applying Pyomo postprocessing actions\n",
      "[    0.65] Pyomo Finished\n"
     ]
    }
   ],
   "source": [
    "! pyomo solve tps.py tpsData.dat --solver=glpk"
   ]
  },
  {
   "cell_type": "markdown",
   "metadata": {},
   "source": [
    "**Resultados**"
   ]
  },
  {
   "cell_type": "code",
   "execution_count": 20,
   "metadata": {
    "collapsed": false
   },
   "outputs": [
    {
     "name": "stdout",
     "output_type": "stream",
     "text": [
      "# ==========================================================\r\n",
      "# = Solver Results                                         =\r\n",
      "# ==========================================================\r\n",
      "# ----------------------------------------------------------\r\n",
      "#   Problem Information\r\n",
      "# ----------------------------------------------------------\r\n",
      "Problem: \r\n",
      "- Name: unknown\r\n",
      "  Lower bound: 4190.0\r\n",
      "  Upper bound: 4190.0\r\n",
      "  Number of objectives: 1\r\n",
      "  Number of constraints: 423\r\n",
      "  Number of variables: 441\r\n",
      "  Number of nonzeros: 1981\r\n",
      "  Sense: minimize\r\n",
      "# ----------------------------------------------------------\r\n",
      "#   Solver Information\r\n",
      "# ----------------------------------------------------------\r\n",
      "Solver: \r\n",
      "- Status: ok\r\n",
      "  Termination condition: optimal\r\n",
      "  Statistics: \r\n",
      "    Branch and bound: \r\n",
      "      Number of bounded subproblems: 411\r\n",
      "      Number of created subproblems: 411\r\n",
      "  Error rc: 0\r\n",
      "  Time: 0.454398155212\r\n",
      "# ----------------------------------------------------------\r\n",
      "#   Solution Information\r\n",
      "# ----------------------------------------------------------\r\n",
      "Solution: \r\n",
      "- number of solutions: 1\r\n",
      "  number of solutions displayed: 1\r\n",
      "- Gap: 0.0\r\n",
      "  Status: optimal\r\n",
      "  Message: None\r\n",
      "  Objective:\r\n",
      "    OBJ:\r\n",
      "      Value: 4190\r\n",
      "  Variable:\r\n",
      "    u[Santander]:\r\n",
      "      Value: -18\r\n",
      "    y[Lerida,Barcelona]:\r\n",
      "      Value: 1\r\n",
      "    y[Huelva,Badajoz]:\r\n",
      "      Value: 1\r\n",
      "    y[Valencia,Murcia]:\r\n",
      "      Value: 1\r\n",
      "    y[Santander,Sebastian]:\r\n",
      "      Value: 1\r\n",
      "    u[Sebastian]:\r\n",
      "      Value: -17\r\n",
      "    y[Barcelona,Tarragona]:\r\n",
      "      Value: 1\r\n",
      "    u[Zaragoza]:\r\n",
      "      Value: -15\r\n",
      "    u[Barcelona]:\r\n",
      "      Value: -13\r\n",
      "    y[Castellon,Valencia]:\r\n",
      "      Value: 1\r\n",
      "    y[Valladolid,Madrid]:\r\n",
      "      Value: 1\r\n",
      "    u[Badajoz]:\r\n",
      "      Value: -3\r\n",
      "    u[Soria]:\r\n",
      "      Value: -16\r\n",
      "    y[Badajoz,Vigo]:\r\n",
      "      Value: 1\r\n",
      "    u[Almeria]:\r\n",
      "      Value: -8\r\n",
      "    u[Sevilla]:\r\n",
      "      Value: -5\r\n",
      "    u[Tarragona]:\r\n",
      "      Value: -12\r\n",
      "    u[Vigo]:\r\n",
      "      Value: -2\r\n",
      "    y[Almeria,Granada]:\r\n",
      "      Value: 1\r\n",
      "    u[Valencia]:\r\n",
      "      Value: -10\r\n",
      "    y[Toledo,Cuenca]:\r\n",
      "      Value: 1\r\n",
      "    u[Murcia]:\r\n",
      "      Value: -9\r\n",
      "    y[Sevilla,Huelva]:\r\n",
      "      Value: 1\r\n",
      "    y[Salamanca,Valladolid]:\r\n",
      "      Value: 1\r\n",
      "    u[Salamanca]:\r\n",
      "      Value: -1\r\n",
      "    u[Cuenca]:\r\n",
      "      Value: -19\r\n",
      "    u[Huelva]:\r\n",
      "      Value: -4\r\n",
      "    y[Madrid,Toledo]:\r\n",
      "      Value: 1\r\n",
      "    u[Toledo]:\r\n",
      "      Value: -20\r\n",
      "    y[Tarragona,Castellon]:\r\n",
      "      Value: 1\r\n",
      "    y[Soria,Zaragoza]:\r\n",
      "      Value: 1\r\n",
      "    y[Zaragoza,Lerida]:\r\n",
      "      Value: 1\r\n",
      "    y[Granada,Sevilla]:\r\n",
      "      Value: 1\r\n",
      "    u[Castellon]:\r\n",
      "      Value: -11\r\n",
      "    y[Vigo,Salamanca]:\r\n",
      "      Value: 1\r\n",
      "    u[Granada]:\r\n",
      "      Value: -6\r\n",
      "    y[Sebastian,Soria]:\r\n",
      "      Value: 1\r\n",
      "    u[Lerida]:\r\n",
      "      Value: -14\r\n",
      "    y[Cuenca,Santander]:\r\n",
      "      Value: 1\r\n",
      "    y[Murcia,Almeria]:\r\n",
      "      Value: 1\r\n",
      "  Constraint: No values\r\n"
     ]
    }
   ],
   "source": [
    "! cat results.yml"
   ]
  },
  {
   "cell_type": "markdown",
   "metadata": {
    "collapsed": false
   },
   "source": [
    "<img src=\"viajante_solucion.jpg\" alt=\"ejemplo\" style=\"width: 750px;\"/>"
   ]
  },
  {
   "cell_type": "markdown",
   "metadata": {},
   "source": [
    "## Bonus Track  (DAE Toolbox)!! : "
   ]
  },
  {
   "cell_type": "markdown",
   "metadata": {
    "collapsed": true
   },
   "source": [
    "DAE Toolbox permite a los usuarios trabajar con ecuaciones diferenciales en pyomo, tanto ecucaiones diferenciales ordinarias (EDO), como parciales (EDP). Veamos un ejemplo a continuación."
   ]
  },
  {
   "cell_type": "markdown",
   "metadata": {},
   "source": [
    "### Simulación de el llenado de un tanque de agua"
   ]
  },
  {
   "cell_type": "markdown",
   "metadata": {},
   "source": [
    "\n",
    "$$ A \\frac{dh}{dt} = K_{1}a_{1} - K_2 a_2 \\sqrt{2gh} $$\n",
    "\n",
    "$$ h(0) = 0.5 m $$\n",
    "\n",
    "$$ 0 \\leq t \\leq 200 s$$"
   ]
  },
  {
   "cell_type": "markdown",
   "metadata": {},
   "source": [
    "<img src=\"deposito.jpg\" alt=\"ejemplo\" style=\"width: 750px;\"/>"
   ]
  },
  {
   "cell_type": "code",
   "execution_count": 23,
   "metadata": {
    "collapsed": false
   },
   "outputs": [
    {
     "name": "stdout",
     "output_type": "stream",
     "text": [
      "# Required imports\r\n",
      "from pyomo.environ import *\r\n",
      "from pyomo.dae import *\r\n",
      "from pyomo.dae.plugins.finitedifference import Finite_Difference_Transformation\r\n",
      "\r\n",
      "m = ConcreteModel()\r\n",
      "\r\n",
      "m.K1 = Param(initialize=0.05)  #m3/s\r\n",
      "m.K2 = Param(initialize=0.015) #m3/s\r\n",
      "m.a1 = Param(initialize=0.6)\r\n",
      "m.a2 = Param(initialize=0.5)\r\n",
      "m.A = Param(initialize=0.5)    #m2\r\n",
      "m.g = Param(initialize=10.0)    #m2/s\r\n",
      "\r\n",
      "T = 200.0\r\n",
      "\r\n",
      "#variables del problema\r\n",
      "m.t = ContinuousSet(bounds=(0, T))\r\n",
      "m.h = Var(m.t, within = NonNegativeReals, initialize = 0.4)\r\n",
      "\r\n",
      "#variables derivadas respecto a las variables independientes x t\r\n",
      "m.dhdt = DerivativeVar(m.h, wrt=m.t)\r\n",
      "\r\n",
      "#restricciones que se deben cumplir\r\n",
      "def _bdm(m, j): #balance de materia\r\n",
      "    if j == 0 :\r\n",
      "        return Constraint.Skip\r\n",
      "    return m.A*m.dhdt[j] == m.K1*m.a1-m.K2*m.a2*sqrt(2*m.g*m.h[j])\r\n",
      "m.bdm = Constraint(m.t, rule=_bdm)\r\n",
      "\r\n",
      "def _initcon(m, j):\r\n",
      "    if j != 0:\r\n",
      "        return Constraint.Skip\r\n",
      "    return m.h[j] == 0.5\r\n",
      "m.initcon = Constraint(m.t,  rule=_initcon)\r\n",
      "\r\n",
      "#funcion objetivo \"dummy\"\r\n",
      "m.obj = Objective(expr=1)\r\n",
      "\r\n",
      "#numero de puntos\r\n",
      "Nt = 20 #puntos de la coordenada temporal t\r\n",
      "\r\n",
      "#discretizar puntos\r\n",
      "discretize = Finite_Difference_Transformation()\r\n",
      "disc = discretize.apply(m,nfe=Nt,wrt=m.t,scheme='BACKWARD')\r\n",
      "\r\n",
      "#resolver usando el solver ipopt\r\n",
      "solver = SolverFactory('ipopt')\r\n",
      "results = solver.solve(m, tee=True)\r\n",
      "\r\n",
      "#obtencion de la solcion en x, t y U\r\n",
      "import numpy as np\r\n",
      "\r\n",
      "t = sorted(disc.t)\r\n",
      "h = sorted(disc.h)\r\n",
      "H = np.zeros((Nt+1,1))\r\n",
      "\r\n",
      "for j in range(Nt+1):\r\n",
      "    it = t[j]\r\n",
      "    H[j] = value(disc.h[it])\r\n",
      "\r\n",
      "#representacion grafica\r\n",
      "import matplotlib.pyplot as plt\r\n",
      "\r\n",
      "plt.plot(t,H)\r\n",
      "plt.show()\r\n"
     ]
    }
   ],
   "source": [
    "! cat tankSimulation.py"
   ]
  },
  {
   "cell_type": "code",
   "execution_count": 24,
   "metadata": {
    "collapsed": false,
    "scrolled": true
   },
   "outputs": [
    {
     "name": "stdout",
     "output_type": "stream",
     "text": [
      "\n",
      "\n",
      "******************************************************************************\n",
      "This program contains Ipopt, a library for large-scale nonlinear optimization.\n",
      " Ipopt is released as open source code under the Eclipse Public License (EPL).\n",
      "         For more information visit http://projects.coin-or.org/Ipopt\n",
      "******************************************************************************\n",
      "\n",
      "This is Ipopt version 3.12.4, running with linear solver mumps.\n",
      "NOTE: Other linear solvers might be more efficient (see Ipopt documentation).\n",
      "\n",
      "Number of nonzeros in equality constraint Jacobian...:      101\n",
      "Number of nonzeros in inequality constraint Jacobian.:        0\n",
      "Number of nonzeros in Lagrangian Hessian.............:       20\n",
      "\n",
      "Total number of variables............................:       41\n",
      "                     variables with only lower bounds:       21\n",
      "                variables with lower and upper bounds:        0\n",
      "                     variables with only upper bounds:        0\n",
      "Total number of equality constraints.................:       41\n",
      "Total number of inequality constraints...............:        0\n",
      "        inequality constraints with only lower bounds:        0\n",
      "   inequality constraints with lower and upper bounds:        0\n",
      "        inequality constraints with only upper bounds:        0\n",
      "\n",
      "iter    objective    inf_pr   inf_du lg(mu)  ||d||  lg(rg) alpha_du alpha_pr  ls\n",
      "   0  1.0000000e+00 1.00e-01 1.00e+00  -1.0 0.00e+00    -  0.00e+00 0.00e+00   0\n",
      "   1  1.0000000e+00 1.32e-03 7.18e-01  -1.7 3.31e-01    -  5.57e-01 1.00e+00h  1\n",
      "   2  1.0000000e+00 2.86e-05 2.45e-02  -1.7 6.67e-02    -  1.00e+00 1.00e+00h  1\n",
      "   3  1.0000000e+00 1.27e-08 5.87e-06  -3.8 1.47e-03    -  1.00e+00 1.00e+00h  1\n",
      "   4  1.0000000e+00 2.08e-15 1.84e-11  -5.7 5.95e-07    -  1.00e+00 1.00e+00h  1\n",
      "\n",
      "Number of Iterations....: 4\n",
      "\n",
      "                                   (scaled)                 (unscaled)\n",
      "Objective...............:   1.0000000000000000e+00    1.0000000000000000e+00\n",
      "Dual infeasibility......:   0.0000000000000000e+00    0.0000000000000000e+00\n",
      "Constraint violation....:   2.0781987242202149e-15    2.0781987242202149e-15\n",
      "Complementarity.........:   0.0000000000000000e+00    0.0000000000000000e+00\n",
      "Overall NLP error.......:   2.0781987242202149e-15    2.0781987242202149e-15\n",
      "\n",
      "\n",
      "Number of objective function evaluations             = 5\n",
      "Number of objective gradient evaluations             = 5\n",
      "Number of equality constraint evaluations            = 5\n",
      "Number of inequality constraint evaluations          = 0\n",
      "Number of equality constraint Jacobian evaluations   = 5\n",
      "Number of inequality constraint Jacobian evaluations = 0\n",
      "Number of Lagrangian Hessian evaluations             = 4\n",
      "Total CPU secs in IPOPT (w/o function evaluations)   =      0.000\n",
      "Total CPU secs in NLP function evaluations           =      0.004\n",
      "\n",
      "EXIT: Optimal Solution Found.\n",
      " \n",
      "Ipopt 3.12.4: Optimal Solution Found\n"
     ]
    }
   ],
   "source": [
    "!python tankSimulation.py"
   ]
  },
  {
   "cell_type": "code",
   "execution_count": null,
   "metadata": {
    "collapsed": true
   },
   "outputs": [],
   "source": []
  }
 ],
 "metadata": {
  "anaconda-cloud": {},
  "kernelspec": {
   "display_name": "Python [Root]",
   "language": "python",
   "name": "Python [Root]"
  },
  "language_info": {
   "codemirror_mode": {
    "name": "ipython",
    "version": 3
   },
   "file_extension": ".py",
   "mimetype": "text/x-python",
   "name": "python",
   "nbconvert_exporter": "python",
   "pygments_lexer": "ipython3",
   "version": "3.5.2"
  }
 },
 "nbformat": 4,
 "nbformat_minor": 0
}
